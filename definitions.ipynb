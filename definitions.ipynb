{
 "cells": [
  {
   "cell_type": "markdown",
   "metadata": {},
   "source": [
    "\n",
    "Does the heuristic definition of different runs correspond to different clusters? \n"
   ]
  },
  {
   "cell_type": "markdown",
   "metadata": {},
   "source": [
    "Good Stuff from DR: \n",
    "\n",
    "Classifications of Off-Ball Runs in Literature\n",
    "\n",
    "With the rise of advanced tracking data and performance analysis, researchers have attempted to systematically classify off-ball run types. The goal is to create a clear “vocabulary” of run patterns to better analyze tactics ￼ ￼. For example, an unsupervised clustering study by Gregory (2020) analyzed thousands of tracking sequences and found that distinct clusters of runs emerged that correspond to familiar football concepts. The analysis noted that certain “familiar run types” could be recognized, such as “overlapping runs near the touchline, runs originating from deep to offer support, direct runs into attacking positions, horizontal runs to create space, and attacking runs cutting into the center” ￼. This indicates that even without pre-defining categories, common tactical movements manifest naturally in data. The clusters were position-dependent: for instance, full-backs frequently showed overlapping/underlapping patterns, midfielders had more lateral support runs, and forwards had many direct or diagonal runs in behind ￼ ￼.\n",
    "\n",
    "Some research focuses on the effect of off-ball runs on defensive pressure. Herold et al. (2022) identified two broad categories of off-ball actions for attackers: deep runs (DRs) and change-of-direction runs (CODs). Deep runs were defined as straight-line high-speed sprints behind the defense, whereas CODs were sharp cuts or turning runs with acceleration/deceleration ￼. Their study found both types of runs create separation from defenders (measurable as decreases in defensive pressure in tracking data) and noted that wide midfielders performed especially many deep runs ￼ ￼. This kind of classification, while coarse, is useful for quantifying how different run styles impact a defense (e.g. a deep vertical run versus an agile double-movement might stress defenders in different ways).\n",
    "\n",
    "On the applied side, performance analysis companies have created nuanced taxonomies for off-ball runs during attacking possession (sometimes called “call-for-the-ball” runs). Using tracking data, SkillCorner, for instance, categorizes players’ runs into up to 10 distinct types, which can be grouped into broader categories ￼. These include: runs that attack space behind the defense (often termed “runs in behind” or “runs into space”), runs that come towards the ball (“runs to feet”, like coming short or support runs), and runs that move laterally to open space (such as pulling wide or into half-spaces). In one analysis of elite strikers across five leagues, the most frequent run types were Runs in Behind (about 32% of their runs), Cross/finishing runs (making runs to get on the end of crosses, ~23%), and Runs ahead of the ball (forward bursts during transitions, ~22%) ￼. Meanwhile, more playmaking or support-oriented runs like Coming Short, Pulling Wide, Pulling into Half-space, and general Support runs constituted a smaller portion (in one report, ~8% for coming short in center-forwards) ￼ ￼. These support/build-up runs also showed higher variation between players, suggesting they depend heavily on team tactics and player style ￼. To simplify analysis, experts sometimes group the runs into two main classes: penetrative runs (into space, behind defenders) versus link-up runs (to feet, supporting the ball). For example, grouping Coming Short, Pulling Wide, and Half-space runs together as “Link-Up Runs” reveals that a player’s tendency to do these is relatively consistent season-to-season when context (team style) is stable ￼. This kind of classification illustrates how different players or teams prefer certain off-ball movement profiles – some strikers constantly threaten the backline with penetrating runs, while others drop in and combine more (or elite forwards mix both, but in discernible patterns).\n",
    "\n",
    "In summary, the literature (both academic and applied) has moved toward formally defining and quantifying run types. Whether it’s basic categories like overlap, support, and diagonal runs, or data-driven clusters and percentages, having a taxonomy allows coaches and analysts to discuss off-ball movements with precision. It also enables measuring the impact of these runs – for instance, how often a deep run yields a scoring chance, or how a team’s style might be characterized by a prevalence of certain run types ￼ ￼. As tracking data becomes more ubiquitous, we can expect even finer classifications (accounting for angle, timing, speed of runs, etc.) and a deeper understanding of the “hidden” art of off-ball movement that so influences the modern game.\n",
    "\n",
    "Papers below: \n",
    "\n",
    "\t•\tHerold, M. et al. (2022). Off-ball behavior in association football: A data-driven model to measure changes in individual defensive pressure. Journal of Sports Sciences, 40(12), 1412-1425. ￼ ￼\n",
    "\t•\tSkillCorner Football Analytics Blog (2023). Metric analysis: Centre forward off-ball run profiles ￼ ￼\n",
    "\t•\tCIES Football Observatory Monthly Report 88 (2023). “Call-for-the-ball” runs and styles of play: a worldwide analysis (SkillCorner data on run types) ￼ ￼\n",
    "\t•\tGregory, S. (2020). Ready Player Run: Off-ball run identification and classification (Barça Sports Analytics Summit paper) "
   ]
  },
  {
   "cell_type": "markdown",
   "metadata": {},
   "source": [
    "# Overlapping Run: \n",
    "\n",
    "An overlapping run is made by an off-ball player who starts behind the ball carrier and runs outside them (toward the sideline), eventually overtaking the ball carrier horizontally toward the opponent’s goal."
   ]
  },
  {
   "cell_type": "code",
   "execution_count": null,
   "metadata": {
    "vscode": {
     "languageId": "plaintext"
    }
   },
   "outputs": [],
   "source": [
    "# Underlapping Run: \n",
    "\n"
   ]
  },
  {
   "cell_type": "code",
   "execution_count": null,
   "metadata": {
    "vscode": {
     "languageId": "plaintext"
    }
   },
   "outputs": [],
   "source": [
    "# Pressing Run: \n",
    "\n"
   ]
  }
 ],
 "metadata": {
  "language_info": {
   "name": "python"
  }
 },
 "nbformat": 4,
 "nbformat_minor": 2
}
